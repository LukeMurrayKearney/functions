{
 "cells": [
  {
   "cell_type": "code",
   "execution_count": null,
   "id": "394442a1",
   "metadata": {},
   "outputs": [],
   "source": [
    "#functions to read a csv and input data into an array of dictionaries\n",
    "\n",
    "def parse_headers(header_line):\n",
    "    return header_line.strip().split(',')\n",
    "\n",
    "def parse_values(lines):\n",
    "    values = []\n",
    "    for i in lines.strip().split(','):\n",
    "        if i == '':\n",
    "            values.append(0.0)\n",
    "        else:\n",
    "            values.append(float(i))\n",
    "    return values\n",
    "\n",
    "def create_item_dict(values,headers):\n",
    "    result={}\n",
    "    for value,header in zip(values, headers):\n",
    "        result[header] = value\n",
    "    return result\n",
    "\n",
    "def read_csv(path):\n",
    "    result = []\n",
    "    with open(path,'r') as f:\n",
    "        lines = f.readlines()\n",
    "        head = parse_headers(lines[0])\n",
    "        for vals in lines[1:]:\n",
    "            values = parse_values(vals)\n",
    "            item_dict = create_item_dict(values, headers)\n",
    "            result.append(item_dict)\n",
    "    return result"
   ]
  }
 ],
 "metadata": {
  "kernelspec": {
   "display_name": "Python 3 (ipykernel)",
   "language": "python",
   "name": "python3"
  },
  "language_info": {
   "codemirror_mode": {
    "name": "ipython",
    "version": 3
   },
   "file_extension": ".py",
   "mimetype": "text/x-python",
   "name": "python",
   "nbconvert_exporter": "python",
   "pygments_lexer": "ipython3",
   "version": "3.9.12"
  }
 },
 "nbformat": 4,
 "nbformat_minor": 5
}
